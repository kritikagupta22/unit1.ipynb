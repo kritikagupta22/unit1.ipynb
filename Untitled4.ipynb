{
  "nbformat": 4,
  "nbformat_minor": 0,
  "metadata": {
    "colab": {
      "provenance": [],
      "authorship_tag": "ABX9TyO0f59Q5dRDiqguGRlE+evt",
      "include_colab_link": true
    },
    "kernelspec": {
      "name": "python3",
      "display_name": "Python 3"
    },
    "language_info": {
      "name": "python"
    }
  },
  "cells": [
    {
      "cell_type": "markdown",
      "metadata": {
        "id": "view-in-github",
        "colab_type": "text"
      },
      "source": [
        "<a href=\"https://colab.research.google.com/github/kritikagupta22/unit1.ipynb/blob/main/Untitled4.ipynb\" target=\"_parent\"><img src=\"https://colab.research.google.com/assets/colab-badge.svg\" alt=\"Open In Colab\"/></a>"
      ]
    },
    {
      "cell_type": "code",
      "execution_count": 5,
      "metadata": {
        "colab": {
          "base_uri": "https://localhost:8080/"
        },
        "id": "qWdW4Vtj4mGZ",
        "outputId": "293dd3a9-ca89-44d3-8d59-c56a15b86456"
      },
      "outputs": [
        {
          "output_type": "stream",
          "name": "stdout",
          "text": [
            "0\n",
            "1\n",
            "2\n",
            "3\n",
            "4\n",
            "5\n",
            "6\n",
            "7\n",
            "8\n",
            "9\n",
            "10\n"
          ]
        }
      ],
      "source": [
        "#WHILE AND FOR LOOPS\n",
        "\n",
        "i=0\n",
        "while i<=10:\n",
        "  print(i)\n",
        "  i=i+1"
      ]
    },
    {
      "cell_type": "code",
      "source": [
        "for i in 'python':\n",
        "  print(i)\n",
        ""
      ],
      "metadata": {
        "colab": {
          "base_uri": "https://localhost:8080/"
        },
        "id": "rHi8n0vP6J4K",
        "outputId": "cd35acbe-a633-49ce-c9dd-c983547341f3"
      },
      "execution_count": 6,
      "outputs": [
        {
          "output_type": "stream",
          "name": "stdout",
          "text": [
            "p\n",
            "y\n",
            "t\n",
            "h\n",
            "o\n",
            "n\n"
          ]
        }
      ]
    },
    {
      "cell_type": "code",
      "source": [
        "i = 0\n",
        "while i <=10:\n",
        "  print(i * '*')\n",
        "  i+=1"
      ],
      "metadata": {
        "colab": {
          "base_uri": "https://localhost:8080/"
        },
        "id": "bpTWOF1I6e0u",
        "outputId": "dc8219a4-f965-4461-8bcf-40adea0df948"
      },
      "execution_count": 7,
      "outputs": [
        {
          "output_type": "stream",
          "name": "stdout",
          "text": [
            "\n",
            "*\n",
            "**\n",
            "***\n",
            "****\n",
            "*****\n",
            "******\n",
            "*******\n",
            "********\n",
            "*********\n",
            "**********\n"
          ]
        }
      ]
    },
    {
      "cell_type": "code",
      "source": [
        "for i in range(2,20):\n",
        "  print(i)"
      ],
      "metadata": {
        "id": "EN9KeKSF64IT",
        "outputId": "c5f569a8-eb8d-4c16-fddd-d9a8bbdd9423",
        "colab": {
          "base_uri": "https://localhost:8080/"
        }
      },
      "execution_count": 8,
      "outputs": [
        {
          "output_type": "stream",
          "name": "stdout",
          "text": [
            "2\n",
            "3\n",
            "4\n",
            "5\n",
            "6\n",
            "7\n",
            "8\n",
            "9\n",
            "10\n",
            "11\n",
            "12\n",
            "13\n",
            "14\n",
            "15\n",
            "16\n",
            "17\n",
            "18\n",
            "19\n"
          ]
        }
      ]
    },
    {
      "cell_type": "code",
      "source": [
        "for i in range(2,20,2):\n",
        "  print(i)"
      ],
      "metadata": {
        "id": "nlGwcTJ_7LW5",
        "outputId": "8feea620-dee2-428e-a091-d37e8e7ab027",
        "colab": {
          "base_uri": "https://localhost:8080/"
        }
      },
      "execution_count": 9,
      "outputs": [
        {
          "output_type": "stream",
          "name": "stdout",
          "text": [
            "2\n",
            "4\n",
            "6\n",
            "8\n",
            "10\n",
            "12\n",
            "14\n",
            "16\n",
            "18\n"
          ]
        }
      ]
    },
    {
      "cell_type": "code",
      "source": [
        "for i in ['kritika', 'gupta']:\n",
        "  print(i)\n"
      ],
      "metadata": {
        "id": "w5bTvMGi7k9Q",
        "outputId": "31149fb5-4941-4b8d-d11c-fcf22709e788",
        "colab": {
          "base_uri": "https://localhost:8080/"
        }
      },
      "execution_count": 15,
      "outputs": [
        {
          "output_type": "stream",
          "name": "stdout",
          "text": [
            "kritika\n",
            "gupta\n"
          ]
        }
      ]
    },
    {
      "cell_type": "code",
      "source": [
        "a= [1,2]\n",
        "b= [3,4]\n",
        "for i in a:\n",
        "  for j in b:\n",
        "    print(\"inside the inner loop\")\n",
        "    print(i,j)\n",
        "    print(\"outside the inner loop\")"
      ],
      "metadata": {
        "id": "f5nXTSFr9xF5",
        "outputId": "99deb444-b878-4d2c-e384-38a71e63764d",
        "colab": {
          "base_uri": "https://localhost:8080/"
        }
      },
      "execution_count": 17,
      "outputs": [
        {
          "output_type": "stream",
          "name": "stdout",
          "text": [
            "inside the inner loop\n",
            "1 3\n",
            "outside the inner loop\n",
            "inside the inner loop\n",
            "1 4\n",
            "outside the inner loop\n",
            "inside the inner loop\n",
            "2 3\n",
            "outside the inner loop\n",
            "inside the inner loop\n",
            "2 4\n",
            "outside the inner loop\n"
          ]
        }
      ]
    },
    {
      "cell_type": "code",
      "source": [
        "# GUESSING\n",
        "\n",
        "sec_num = 7\n",
        "guess_count = 0\n",
        "guess=int(input(\"enter the no. to guess: \"))\n",
        "while guess_count != 3:\n",
        "  if guess != sec_num:\n",
        "    print(\"you failed\")\n",
        "    guess_count+=1\n",
        "    guess=int(input(\"enter the no. to guess\"))\n",
        "  else:\n",
        "    guess==sec_num\n",
        "    print(\"you won\")\n",
        "    break\n",
        "if guess_count ==0:\n",
        "  print(\"you lose\")\n",
        "\n"
      ],
      "metadata": {
        "id": "xBe4PSDH_3Da",
        "outputId": "125bc310-ba7e-4c22-b328-0b78f3e6ed71",
        "colab": {
          "base_uri": "https://localhost:8080/"
        }
      },
      "execution_count": 5,
      "outputs": [
        {
          "name": "stdout",
          "output_type": "stream",
          "text": [
            "enter the no. to guess: 2\n",
            "you failed\n",
            "enter the no. to guess4\n",
            "you failed\n",
            "enter the no. to guess6\n",
            "you failed\n",
            "enter the no. to guess8\n"
          ]
        }
      ]
    },
    {
      "cell_type": "code",
      "source": [
        "\n",
        "\n"
      ],
      "metadata": {
        "id": "NWbpBaiMHd0o"
      },
      "execution_count": null,
      "outputs": []
    }
  ]
}