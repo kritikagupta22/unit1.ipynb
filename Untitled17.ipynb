{
  "nbformat": 4,
  "nbformat_minor": 0,
  "metadata": {
    "colab": {
      "provenance": [],
      "authorship_tag": "ABX9TyOWDt5sBfCoDWvHbTDgBUSa",
      "include_colab_link": true
    },
    "kernelspec": {
      "name": "python3",
      "display_name": "Python 3"
    },
    "language_info": {
      "name": "python"
    }
  },
  "cells": [
    {
      "cell_type": "markdown",
      "metadata": {
        "id": "view-in-github",
        "colab_type": "text"
      },
      "source": [
        "<a href=\"https://colab.research.google.com/github/kritikagupta22/unit1.ipynb/blob/main/Untitled17.ipynb\" target=\"_parent\"><img src=\"https://colab.research.google.com/assets/colab-badge.svg\" alt=\"Open In Colab\"/></a>"
      ]
    },
    {
      "cell_type": "code",
      "execution_count": 2,
      "metadata": {
        "colab": {
          "base_uri": "https://localhost:8080/"
        },
        "id": "XACyi27_Jr_A",
        "outputId": "3fcf6ebf-6cfb-409d-863f-2aec63b62159"
      },
      "outputs": [
        {
          "output_type": "stream",
          "name": "stdout",
          "text": [
            "Enter your age:18\n",
            "18\n"
          ]
        }
      ],
      "source": [
        "#Exception Handling\n",
        "\n",
        "age_1= input(\"Enter your age:\")\n",
        "print(age_1)\n",
        "\n"
      ]
    },
    {
      "cell_type": "code",
      "source": [
        "name_1= input(\"Enter your name:\")\n",
        "print(name_1)"
      ],
      "metadata": {
        "colab": {
          "base_uri": "https://localhost:8080/"
        },
        "id": "lCNvpmF0LZDL",
        "outputId": "78be04ee-b201-4f75-d6a9-56082e7a3f2b"
      },
      "execution_count": 3,
      "outputs": [
        {
          "output_type": "stream",
          "name": "stdout",
          "text": [
            "Enter your name:kritika\n",
            "kritika\n"
          ]
        }
      ]
    },
    {
      "cell_type": "code",
      "source": [
        "try:\n",
        "  date_1= int(input(\"enter your date:\"))\n",
        "  print(date_1)\n",
        "\n",
        "except(ValueError):\n",
        "  print(\"enter the number only\")"
      ],
      "metadata": {
        "colab": {
          "base_uri": "https://localhost:8080/"
        },
        "id": "0o-pRIA1Lpyb",
        "outputId": "eeade820-2c40-4948-a9d4-8410652a0859"
      },
      "execution_count": 14,
      "outputs": [
        {
          "output_type": "stream",
          "name": "stdout",
          "text": [
            "enter your date:k\n",
            "enter the number only\n"
          ]
        }
      ]
    },
    {
      "cell_type": "code",
      "source": [
        "def summ(a,b):\n",
        "  return a+b\n",
        "\n",
        "m=int(input(\"enter the 1st number\"))\n",
        "n=int(input(\"enter the 2nd number\"))\n",
        "summ(m,n)"
      ],
      "metadata": {
        "id": "RxMJVvhiNlak",
        "outputId": "598482b4-a025-460f-eea1-6ac83c0e4133",
        "colab": {
          "base_uri": "https://localhost:8080/"
        }
      },
      "execution_count": 16,
      "outputs": [
        {
          "name": "stdout",
          "output_type": "stream",
          "text": [
            "enter the 1st number16\n",
            "enter the 2nd number10\n"
          ]
        },
        {
          "output_type": "execute_result",
          "data": {
            "text/plain": [
              "26"
            ]
          },
          "metadata": {},
          "execution_count": 16
        }
      ]
    },
    {
      "cell_type": "code",
      "source": [
        "def summ(j,k):\n",
        "   return j/k\n",
        "try:\n",
        " m=int(input(\"enter the 1st number\"))\n",
        " n=int(input(\"enter the 2nd number\"))\n",
        " summ(m,n)\n",
        "except(ZeroDivisionError):\n",
        "  print(\"number can't be divided by zero\")\n"
      ],
      "metadata": {
        "id": "0Xo5jtpUOWe_",
        "outputId": "61e21950-fabc-4844-a735-aaf712dfb6ed",
        "colab": {
          "base_uri": "https://localhost:8080/"
        }
      },
      "execution_count": 28,
      "outputs": [
        {
          "output_type": "stream",
          "name": "stdout",
          "text": [
            "enter the 1st number10\n",
            "enter the 2nd number0\n",
            "number can't be divided by zero\n"
          ]
        }
      ]
    },
    {
      "cell_type": "code",
      "source": [
        "def summ(s,n):\n",
        "   return s/n\n",
        "try:\n",
        " m=int(input(\"enter the 1st number\"))\n",
        " n=int(input(\"enter the 2nd number\"))\n",
        " #summ(m,n)\n",
        "except(ZeroDivisionError):\n",
        "  print(\"bacftcgh\")\n",
        "\n",
        "finally:\n",
        "  pass\n",
        "\n",
        "summ(m,n)"
      ],
      "metadata": {
        "id": "zz-NWR5dRAlM",
        "outputId": "d598fdbc-9611-4e4e-8377-758834ccabdd",
        "colab": {
          "base_uri": "https://localhost:8080/"
        }
      },
      "execution_count": 53,
      "outputs": [
        {
          "name": "stdout",
          "output_type": "stream",
          "text": [
            "enter the 1st number78\n",
            "enter the 2nd number75\n"
          ]
        },
        {
          "output_type": "execute_result",
          "data": {
            "text/plain": [
              "1.04"
            ]
          },
          "metadata": {},
          "execution_count": 53
        }
      ]
    }
  ]
}