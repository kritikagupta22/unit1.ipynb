{
  "nbformat": 4,
  "nbformat_minor": 0,
  "metadata": {
    "colab": {
      "provenance": [],
      "authorship_tag": "ABX9TyOMAaNCYouApXVu0Do1NAtI",
      "include_colab_link": true
    },
    "kernelspec": {
      "name": "python3",
      "display_name": "Python 3"
    },
    "language_info": {
      "name": "python"
    }
  },
  "cells": [
    {
      "cell_type": "markdown",
      "metadata": {
        "id": "view-in-github",
        "colab_type": "text"
      },
      "source": [
        "<a href=\"https://colab.research.google.com/github/kritikagupta22/unit1.ipynb/blob/main/Untitled7.ipynb\" target=\"_parent\"><img src=\"https://colab.research.google.com/assets/colab-badge.svg\" alt=\"Open In Colab\"/></a>"
      ]
    },
    {
      "cell_type": "code",
      "execution_count": 5,
      "metadata": {
        "colab": {
          "base_uri": "https://localhost:8080/"
        },
        "id": "kghjnH-BkKLm",
        "outputId": "96717b1b-f7c7-4014-b386-651d8f4b8319"
      },
      "outputs": [
        {
          "output_type": "stream",
          "name": "stdout",
          "text": [
            "start the python\n",
            "hello world\n",
            "python is a easy language\n",
            "you can do anything in datascience using python\n"
          ]
        }
      ],
      "source": [
        "def func1():\n",
        "  print('hello world')\n",
        "  print('python is a easy language')\n",
        "\n",
        "print(\"start the python\")\n",
        "func1()\n",
        "print(\"you can do anything in datascience using python\")\n"
      ]
    },
    {
      "cell_type": "code",
      "source": [
        "def fucn1(f_name, l_name):\n",
        "  print(f'hello world {f_name} {l_name}')\n",
        "  print('python is a easy language')\n",
        "\n",
        "print(\"start the python\")\n",
        "fucn1(\"Vedika\" , \"Garg\")   #Vedika is argument\n",
        "print(\"Jai Shree Shyam\")"
      ],
      "metadata": {
        "id": "mAr9dluSlsiO",
        "outputId": "dd7204f3-de05-4454-d2bc-f064d0d719d5",
        "colab": {
          "base_uri": "https://localhost:8080/"
        }
      },
      "execution_count": 12,
      "outputs": [
        {
          "output_type": "stream",
          "name": "stdout",
          "text": [
            "start the python\n",
            "hello world Vedika Garg\n",
            "python is a easy language\n",
            "Jai Shree Shyam\n"
          ]
        }
      ]
    },
    {
      "cell_type": "code",
      "source": [
        "def fucn1(f_name, l_name, k_name):\n",
        "  print(f'hi guys {f_name},{l_name},{k_name}')\n",
        "  print('how are you guys')\n",
        "\n",
        "print(\"What happened guys\")\n",
        "fucn1(\"guys\" , \"uno\" , \"khele\")      #Uno is argument\n",
        "print(\"Bye Guys\")"
      ],
      "metadata": {
        "id": "8LLjHEaInZT8",
        "outputId": "bb26a4ad-aa54-4615-ef16-9480110d05b4",
        "colab": {
          "base_uri": "https://localhost:8080/"
        }
      },
      "execution_count": 14,
      "outputs": [
        {
          "output_type": "stream",
          "name": "stdout",
          "text": [
            "What happened guys\n",
            "hi guys guys,uno,khele\n",
            "how are you guys\n",
            "Bye Guys\n"
          ]
        }
      ]
    },
    {
      "cell_type": "code",
      "source": [
        "def cost_1(mrp, shipping, discount):\n",
        "  selling_price =mrp+shipping-discount\n",
        "  print(selling_price)\n",
        "\n",
        "print(\"total selling price\")\n",
        "cost_1(mrp=5000, shipping=100, discount=200)"
      ],
      "metadata": {
        "id": "qdk90WILoy9G",
        "outputId": "547bc09c-bad0-4056-d7b3-0dc8af6f5141",
        "colab": {
          "base_uri": "https://localhost:8080/"
        }
      },
      "execution_count": 18,
      "outputs": [
        {
          "output_type": "stream",
          "name": "stdout",
          "text": [
            "total selling price\n",
            "4900\n"
          ]
        }
      ]
    },
    {
      "cell_type": "code",
      "source": [
        "# Write a program create a function that does the arithmetic operations?\n",
        "\n",
        "def operations(k,v):\n",
        "  add=k+v\n",
        "  sub=k-v\n",
        "  mul=k*v\n",
        "  div=k/v\n",
        "  print(add)\n",
        "  print(sub)\n",
        "  print(mul)\n",
        "  print(div)\n",
        "k=int(input(\"Enter number 1:\"))\n",
        "v=int(input(\"Enter number 2:\"))\n",
        "operations(k,v)"
      ],
      "metadata": {
        "id": "HV9qeiIXpsWT",
        "outputId": "5abbfcfe-1d29-496e-ff0c-9a080342a06f",
        "colab": {
          "base_uri": "https://localhost:8080/"
        }
      },
      "execution_count": 45,
      "outputs": [
        {
          "output_type": "stream",
          "name": "stdout",
          "text": [
            "Enter number 1:5\n",
            "Enter number 2:3\n",
            "8\n",
            "2\n",
            "15\n",
            "1.6666666666666667\n"
          ]
        }
      ]
    },
    {
      "cell_type": "code",
      "source": [
        "#message = input(\"enter\")\n",
        "\n",
        "def emoji_converter(message):\n",
        "   words = message.split(' ')\n",
        "\n",
        "   emojis ={\n",
        "        \":)\" : \"😊\",\n",
        "        \"(:\" : \"😂\"}\n",
        "   output=''\n",
        "   for word in words:\n",
        "      output+=emojis.get(word, word)+\" \"\n",
        "   print(output)\n",
        "message= input(\"enter the message\")\n",
        "emoji_converter(message)"
      ],
      "metadata": {
        "id": "IvTX_fdnuMLf",
        "outputId": "7ba149b5-c45f-4eb4-ef89-d2efbd9e4f07",
        "colab": {
          "base_uri": "https://localhost:8080/"
        }
      },
      "execution_count": 46,
      "outputs": [
        {
          "output_type": "stream",
          "name": "stdout",
          "text": [
            "enter the messagehappy :)\n",
            "happy 😊 \n"
          ]
        }
      ]
    },
    {
      "cell_type": "code",
      "source": [
        "# WRite a function to reverse a string?"
      ],
      "metadata": {
        "id": "GfaqTL7fwO7u"
      },
      "execution_count": null,
      "outputs": []
    }
  ]
}