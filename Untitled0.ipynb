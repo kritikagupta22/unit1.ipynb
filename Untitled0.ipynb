{
  "nbformat": 4,
  "nbformat_minor": 0,
  "metadata": {
    "colab": {
      "provenance": [],
      "authorship_tag": "ABX9TyPOpueLoyv1Sf2Khf2OHOlu",
      "include_colab_link": true
    },
    "kernelspec": {
      "name": "python3",
      "display_name": "Python 3"
    },
    "language_info": {
      "name": "python"
    }
  },
  "cells": [
    {
      "cell_type": "markdown",
      "metadata": {
        "id": "view-in-github",
        "colab_type": "text"
      },
      "source": [
        "<a href=\"https://colab.research.google.com/github/kritikagupta22/unit1.ipynb/blob/main/Untitled0.ipynb\" target=\"_parent\"><img src=\"https://colab.research.google.com/assets/colab-badge.svg\" alt=\"Open In Colab\"/></a>"
      ]
    },
    {
      "cell_type": "code",
      "execution_count": 1,
      "metadata": {
        "colab": {
          "base_uri": "https://localhost:8080/"
        },
        "id": "yEX7dtCX35JR",
        "outputId": "2be38d02-dffd-4e78-979f-8a6785afc98b"
      },
      "outputs": [
        {
          "output_type": "stream",
          "name": "stdout",
          "text": [
            "HELLO GUYS\n"
          ]
        }
      ],
      "source": [
        "print ('HELLO GUYS')"
      ]
    },
    {
      "cell_type": "code",
      "source": [
        "a=66.8\n",
        "b=False\n",
        "print(type(a))\n",
        "print(type(b))"
      ],
      "metadata": {
        "colab": {
          "base_uri": "https://localhost:8080/"
        },
        "id": "-ojdpgxz4Rlz",
        "outputId": "91c910a0-92b7-45d3-d97c-435fbf6bb479"
      },
      "execution_count": 3,
      "outputs": [
        {
          "output_type": "stream",
          "name": "stdout",
          "text": [
            "<class 'float'>\n",
            "<class 'bool'>\n"
          ]
        }
      ]
    },
    {
      "cell_type": "code",
      "source": [
        "a=5j\n",
        "b=65\n",
        "c=a+b\n",
        "print(c)\n",
        "print(type(c))"
      ],
      "metadata": {
        "colab": {
          "base_uri": "https://localhost:8080/"
        },
        "id": "93CpDJ_M4utw",
        "outputId": "6379acb3-3888-4b2c-e876-eed8670d4df8"
      },
      "execution_count": 4,
      "outputs": [
        {
          "output_type": "stream",
          "name": "stdout",
          "text": [
            "(65+5j)\n",
            "<class 'complex'>\n"
          ]
        }
      ]
    },
    {
      "cell_type": "code",
      "source": [
        "type('world')"
      ],
      "metadata": {
        "colab": {
          "base_uri": "https://localhost:8080/"
        },
        "id": "27tp3V1t5CEC",
        "outputId": "41d215c2-8225-4f3f-d7bb-26bc9b103fe6"
      },
      "execution_count": 7,
      "outputs": [
        {
          "output_type": "execute_result",
          "data": {
            "text/plain": [
              "str"
            ]
          },
          "metadata": {},
          "execution_count": 7
        }
      ]
    },
    {
      "cell_type": "code",
      "source": [
        "k=20\n",
        "print(float(k))"
      ],
      "metadata": {
        "colab": {
          "base_uri": "https://localhost:8080/"
        },
        "id": "z5pRM1d45ZE4",
        "outputId": "17932899-f8fa-4b0f-97e2-0d2d258982f7"
      },
      "execution_count": 10,
      "outputs": [
        {
          "output_type": "stream",
          "name": "stdout",
          "text": [
            "20.0\n"
          ]
        }
      ]
    },
    {
      "cell_type": "code",
      "source": [
        "a= 10\n",
        "b= 20\n",
        "print (a + b)\n",
        "print(type(a))"
      ],
      "metadata": {
        "colab": {
          "base_uri": "https://localhost:8080/"
        },
        "id": "79tHkdxi5nMi",
        "outputId": "46412762-c7a7-4cfa-9df4-54f18df7d2b7"
      },
      "execution_count": 20,
      "outputs": [
        {
          "output_type": "stream",
          "name": "stdout",
          "text": [
            "30\n",
            "<class 'int'>\n"
          ]
        }
      ]
    },
    {
      "cell_type": "code",
      "source": [
        "birth_year = int(input(\"What is my age?\"))\n",
        "age = 2024 - birth_year\n",
        "print(age)"
      ],
      "metadata": {
        "colab": {
          "base_uri": "https://localhost:8080/"
        },
        "id": "hBIBD0B-59wo",
        "outputId": "cde2a981-2199-4b88-cbe8-64cd91523d42"
      },
      "execution_count": 15,
      "outputs": [
        {
          "output_type": "stream",
          "name": "stdout",
          "text": [
            "What is my age?18\n",
            "2006\n"
          ]
        }
      ]
    },
    {
      "cell_type": "code",
      "source": [
        "a= 10\n",
        "b= 20.5\n",
        "c = a+b\n",
        "print(c)"
      ],
      "metadata": {
        "colab": {
          "base_uri": "https://localhost:8080/"
        },
        "id": "vWxjwt726por",
        "outputId": "c4866696-cf55-4afe-fa93-16e595dd7112"
      },
      "execution_count": 16,
      "outputs": [
        {
          "output_type": "stream",
          "name": "stdout",
          "text": [
            "30.5\n"
          ]
        }
      ]
    },
    {
      "cell_type": "code",
      "source": [
        "#Write a program to create your bio data and use these inputs functions:\n",
        "#sap id\n",
        "#name\n",
        "#university address\n",
        "#subject\n",
        "#semester\n",
        "\n",
        "name=str(input(\"Enter your name\"))\n",
        "sapid= int(input(\"Enter your sapid\"))\n",
        "universityname=str(input(\"Enter your university nmae\"))\n",
        "subject=str(input(\"Enter your subject\"))\n",
        "semester=str(input(\"Enter your semester\"))\n",
        "print(name)\n",
        "print(sapid)\n",
        "print(universityname)\n",
        "print (semester)\n"
      ],
      "metadata": {
        "colab": {
          "base_uri": "https://localhost:8080/"
        },
        "id": "BYt_Vj5_5Xx9",
        "outputId": "fe38a5e4-0f6b-4e36-91cf-a89446e54893"
      },
      "execution_count": 25,
      "outputs": [
        {
          "output_type": "stream",
          "name": "stdout",
          "text": [
            "Enter your nameKritik Gupta\n",
            "Enter your sapid500125829\n",
            "Enter your university nmaeUPES\n",
            "Enter your subjectPython, Digital Electronics, Computer Organization, Mathematics, Physics, Critical Thinking\n",
            "Enter your semesterSecond Semester\n",
            "Kritik Gupta\n",
            "500125829\n",
            "UPES\n",
            "Second Semester\n"
          ]
        }
      ]
    },
    {
      "cell_type": "code",
      "source": [
        "a=\"hello world\"\n",
        "print(\"a\")\n",
        "print(a)#this will check in memory\n",
        "print(a[1])\n",
        "print(len(a))\n",
        "print(a.lower())\n",
        "print(a.upper())\n",
        "print(a.replace(\"H,\"j\"))\n",
        "print(a.find('o'))#output:1\n",
        "print(a.replace('Hello','4'))#output : python 4 beginners\n",
        "#print('python' in course)#output: True(in is a special operator)\n",
        "a.upper()\n"
      ],
      "metadata": {
        "id": "a7fOJDZwAMMN"
      },
      "execution_count": null,
      "outputs": []
    }
  ]
}