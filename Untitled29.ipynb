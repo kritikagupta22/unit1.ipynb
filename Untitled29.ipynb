{
  "nbformat": 4,
  "nbformat_minor": 0,
  "metadata": {
    "colab": {
      "provenance": [],
      "authorship_tag": "ABX9TyNWyNSpgEgQeZnE1c8WeR7X",
      "include_colab_link": true
    },
    "kernelspec": {
      "name": "python3",
      "display_name": "Python 3"
    },
    "language_info": {
      "name": "python"
    }
  },
  "cells": [
    {
      "cell_type": "markdown",
      "metadata": {
        "id": "view-in-github",
        "colab_type": "text"
      },
      "source": [
        "<a href=\"https://colab.research.google.com/github/kritikagupta22/unit1.ipynb/blob/main/Untitled29.ipynb\" target=\"_parent\"><img src=\"https://colab.research.google.com/assets/colab-badge.svg\" alt=\"Open In Colab\"/></a>"
      ]
    },
    {
      "cell_type": "code",
      "execution_count": 2,
      "metadata": {
        "colab": {
          "base_uri": "https://localhost:8080/"
        },
        "id": "frdXiPMZ4nI4",
        "outputId": "6ded0c2b-8a1f-42a3-98c2-324f42d64d94"
      },
      "outputs": [
        {
          "output_type": "stream",
          "name": "stdout",
          "text": [
            "Kritika\n",
            "500125829\n"
          ]
        }
      ],
      "source": [
        "class Person:\n",
        "  def __init__(self,name,id):\n",
        "    self.name = name\n",
        "    self.id = id\n",
        "\n",
        "p1 = Person(\"Kritika\", 500125829)\n",
        "\n",
        "print(p1.name)\n",
        "print(p1.id)"
      ]
    },
    {
      "cell_type": "code",
      "source": [
        "class AssistantProfessor:\n",
        "  def __init__(self,name,id):\n",
        "   self.name = name\n",
        "   self.id = id\n",
        "   self.Mb = self.Member()\n",
        "  def show():\n",
        "    print(f\"My name is:{self.name}\")\n",
        "    print(f\"My id is:{self.id}\")\n",
        "  class Member:\n",
        "     def show(self):\n",
        "        print(\"I am the Based number also\")\n",
        "AP1 =AssistantProfessor(\"Khushi\",500488900)\n",
        "AP1.show()\n",
        "\n",
        "AP2=AP1.Mb\n",
        "AP2.show()\n",
        "\n"
      ],
      "metadata": {
        "colab": {
          "base_uri": "https://localhost:8080/",
          "height": 210
        },
        "id": "DDcxsF4N5wx8",
        "outputId": "d8f5576c-eb21-40ff-9b0e-94bb8154aaef"
      },
      "execution_count": 18,
      "outputs": [
        {
          "output_type": "error",
          "ename": "TypeError",
          "evalue": "AssistantProfessor.show() takes 0 positional arguments but 1 was given",
          "traceback": [
            "\u001b[0;31m---------------------------------------------------------------------------\u001b[0m",
            "\u001b[0;31mTypeError\u001b[0m                                 Traceback (most recent call last)",
            "\u001b[0;32m<ipython-input-18-cb1490bde2b8>\u001b[0m in \u001b[0;36m<cell line: 13>\u001b[0;34m()\u001b[0m\n\u001b[1;32m     11\u001b[0m         \u001b[0mprint\u001b[0m\u001b[0;34m(\u001b[0m\u001b[0;34m\"I am the Based number also\"\u001b[0m\u001b[0;34m)\u001b[0m\u001b[0;34m\u001b[0m\u001b[0;34m\u001b[0m\u001b[0m\n\u001b[1;32m     12\u001b[0m \u001b[0mAP1\u001b[0m \u001b[0;34m=\u001b[0m\u001b[0mAssistantProfessor\u001b[0m\u001b[0;34m(\u001b[0m\u001b[0;34m\"Khushi\"\u001b[0m\u001b[0;34m,\u001b[0m\u001b[0;36m500488900\u001b[0m\u001b[0;34m)\u001b[0m\u001b[0;34m\u001b[0m\u001b[0;34m\u001b[0m\u001b[0m\n\u001b[0;32m---> 13\u001b[0;31m \u001b[0mAP1\u001b[0m\u001b[0;34m.\u001b[0m\u001b[0mshow\u001b[0m\u001b[0;34m(\u001b[0m\u001b[0;34m)\u001b[0m\u001b[0;34m\u001b[0m\u001b[0;34m\u001b[0m\u001b[0m\n\u001b[0m\u001b[1;32m     14\u001b[0m \u001b[0;34m\u001b[0m\u001b[0m\n\u001b[1;32m     15\u001b[0m \u001b[0mAP2\u001b[0m\u001b[0;34m=\u001b[0m\u001b[0mAP1\u001b[0m\u001b[0;34m.\u001b[0m\u001b[0mMb\u001b[0m\u001b[0;34m\u001b[0m\u001b[0;34m\u001b[0m\u001b[0m\n",
            "\u001b[0;31mTypeError\u001b[0m: AssistantProfessor.show() takes 0 positional arguments but 1 was given"
          ]
        }
      ]
    },
    {
      "cell_type": "code",
      "source": [
        "class Parent():\n",
        "  def values(self):\n",
        "    print(\"total cost is score\")\n",
        "class son():\n",
        "  def values(self):\n",
        "    print(\"Son has his own Property\")\n",
        "class Daughter():\n",
        "  def values(self):\n",
        "    print(\"Daughter is settled Abroad\")\n",
        "    S1 = Son()\n",
        "    S1.values()\n",
        "    S1.property()\n",
        "    S2 = Daughter()\n",
        "    S2.property()\n"
      ],
      "metadata": {
        "id": "vQSaYcxB_hn1"
      },
      "execution_count": 21,
      "outputs": []
    },
    {
      "cell_type": "code",
      "source": [],
      "metadata": {
        "id": "kGtQgXyHBvL5"
      },
      "execution_count": null,
      "outputs": []
    }
  ]
}