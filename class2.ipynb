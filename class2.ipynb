{
  "nbformat": 4,
  "nbformat_minor": 0,
  "metadata": {
    "colab": {
      "provenance": [],
      "authorship_tag": "ABX9TyPLbIGa0OXu1nxkRYR7u2yJ",
      "include_colab_link": true
    },
    "kernelspec": {
      "name": "python3",
      "display_name": "Python 3"
    },
    "language_info": {
      "name": "python"
    }
  },
  "cells": [
    {
      "cell_type": "markdown",
      "metadata": {
        "id": "view-in-github",
        "colab_type": "text"
      },
      "source": [
        "<a href=\"https://colab.research.google.com/github/kritikagupta22/unit1.ipynb/blob/main/class2.ipynb\" target=\"_parent\"><img src=\"https://colab.research.google.com/assets/colab-badge.svg\" alt=\"Open In Colab\"/></a>"
      ]
    },
    {
      "cell_type": "code",
      "execution_count": 3,
      "metadata": {
        "colab": {
          "base_uri": "https://localhost:8080/"
        },
        "id": "meKdbctJ4_OA",
        "outputId": "b48ebc7d-9a2c-4fe2-9758-0ea6f3b2d104"
      },
      "outputs": [
        {
          "output_type": "stream",
          "name": "stdout",
          "text": [
            "Enter a number10\n",
            "Enter another number12\n",
            "0.8333333333333334\n",
            "0.8333333333333334\n",
            "10\n",
            "120\n",
            "0\n"
          ]
        }
      ],
      "source": [
        "a=int(input(\"Enter a number\"))\n",
        "b=int(input(\"Enter another number\"))\n",
        "c=a/b\n",
        "d=a/b\n",
        "e=a%b\n",
        "f=a*b\n",
        "g=a//b\n",
        "print(c)\n",
        "print(d)\n",
        "print(e)\n",
        "print(f)\n",
        "print(g)"
      ]
    },
    {
      "cell_type": "code",
      "source": [
        "a=float(input(\"Enter a number\"))\n",
        "b=float(input(\"Enter another number\"))\n",
        "h=a+b\n",
        "i=a*b\n",
        "j=a/b\n",
        "k=a-b\n",
        "l=a//b\n",
        "print(h)\n",
        "print(i)\n",
        "print(j)\n",
        "print(k)\n",
        "print(l)"
      ],
      "metadata": {
        "colab": {
          "base_uri": "https://localhost:8080/"
        },
        "id": "TOZCrKbX5xIH",
        "outputId": "218c2f30-98a2-4539-9bfe-86dc3d8ae569"
      },
      "execution_count": 5,
      "outputs": [
        {
          "output_type": "stream",
          "name": "stdout",
          "text": [
            "Enter a number25\n",
            "Enter another number31\n",
            "56.0\n",
            "775.0\n",
            "0.8064516129032258\n",
            "-6.0\n",
            "0.0\n"
          ]
        }
      ]
    },
    {
      "cell_type": "code",
      "source": [
        "a=input(\"enter a number\")\n",
        "b=input(\"enter another number\")\n",
        "c = int(a)+int(b)\n",
        "d = int(a)-int(b)\n",
        "e = int(a)/int(b)\n",
        "f = int(a)*int(b)\n",
        "g = int(a)%int(b)\n",
        "print(c)\n",
        "print(d)\n",
        "print(e)\n",
        "print(f)\n",
        "print(g)"
      ],
      "metadata": {
        "colab": {
          "base_uri": "https://localhost:8080/",
          "height": 87
        },
        "id": "hfcprnIS6IfQ",
        "outputId": "bf1e7d1f-c314-4a2a-d47d-9d4b302df545"
      },
      "execution_count": 14,
      "outputs": [
        {
          "output_type": "stream",
          "name": "stdout",
          "text": [
            "enter a number23\n",
            "enter another number16\n",
            "0.8333333333333334 0.8333333333333334 1.4375 368 7\n"
          ]
        },
        {
          "output_type": "execute_result",
          "data": {
            "text/plain": [
              "'print(d)\\nprint(e)\\nprint(f)\\nprint(g)'"
            ],
            "application/vnd.google.colaboratory.intrinsic+json": {
              "type": "string"
            }
          },
          "metadata": {},
          "execution_count": 14
        }
      ]
    },
    {
      "cell_type": "code",
      "source": [
        "#RELATION OPERATORS\n",
        "a=10\n",
        "b=12\n",
        "print(a>b)\n",
        "print(a<b)\n",
        "print(a==b)\n",
        "print(a!=b)\n",
        "print(a<=b)\n",
        "print(a>=b)"
      ],
      "metadata": {
        "colab": {
          "base_uri": "https://localhost:8080/"
        },
        "id": "djjfG4F2-I84",
        "outputId": "8d58ac44-fbf2-4c86-9d31-f77090d2d9be"
      },
      "execution_count": 15,
      "outputs": [
        {
          "output_type": "stream",
          "name": "stdout",
          "text": [
            "False\n",
            "True\n",
            "False\n",
            "True\n",
            "True\n",
            "False\n"
          ]
        }
      ]
    },
    {
      "cell_type": "code",
      "source": [
        "\n",
        "a=6\n",
        "b=10\n",
        "print(\"a | b =\",a | b)\n",
        "print(\"~ a =\",~a)\n",
        "print(\"a & b =\",a&b)\n",
        "print(\"a ^ b =\", a^b)\n"
      ],
      "metadata": {
        "colab": {
          "base_uri": "https://localhost:8080/"
        },
        "id": "WKs0B9sg-nka",
        "outputId": "80e220fc-4b53-441b-9f7f-ee03287c5bb8"
      },
      "execution_count": 16,
      "outputs": [
        {
          "output_type": "stream",
          "name": "stdout",
          "text": [
            "a | b = 14\n",
            "~ a = -7\n",
            "a & b = 2\n",
            "a ^ b = 12\n"
          ]
        }
      ]
    },
    {
      "cell_type": "code",
      "source": [
        "#ASSIGNMENT OPERATORS\n",
        "a=6\n",
        "b=9\n",
        "a+=b\n",
        "print(a)\n",
        "a=a+b\n",
        "print(a)\n",
        "\n"
      ],
      "metadata": {
        "colab": {
          "base_uri": "https://localhost:8080/"
        },
        "id": "_mNnfwR3BhLc",
        "outputId": "2e9b8506-6fe7-4a47-a959-1b1d7df68c6f"
      },
      "execution_count": 17,
      "outputs": [
        {
          "output_type": "stream",
          "name": "stdout",
          "text": [
            "15\n",
            "24\n"
          ]
        }
      ]
    },
    {
      "cell_type": "code",
      "source": [
        "#Write a program to make a calculator that does all arithemtic and logical and comparision operations?\n",
        "\n",
        "a=float(input(\"Enter a number\"))\n",
        "b=float(input(\"Enter another number\"))\n",
        "print(\"+,-,*,^,%,<,>,/\")\n",
        "c=input(\"Select the operations to be performed\")\n",
        "\n"
      ],
      "metadata": {
        "colab": {
          "base_uri": "https://localhost:8080/",
          "height": 141
        },
        "id": "BDB9qZKAB_Ky",
        "outputId": "68ddc274-bc5f-4d09-8ca3-7b11b7823f89"
      },
      "execution_count": 23,
      "outputs": [
        {
          "output_type": "error",
          "ename": "SyntaxError",
          "evalue": "invalid syntax (<ipython-input-23-892e8f590fd9>, line 7)",
          "traceback": [
            "\u001b[0;36m  File \u001b[0;32m\"<ipython-input-23-892e8f590fd9>\"\u001b[0;36m, line \u001b[0;32m7\u001b[0m\n\u001b[0;31m    def(num1+num2)\u001b[0m\n\u001b[0m       ^\u001b[0m\n\u001b[0;31mSyntaxError\u001b[0m\u001b[0;31m:\u001b[0m invalid syntax\n"
          ]
        }
      ]
    }
  ]
}