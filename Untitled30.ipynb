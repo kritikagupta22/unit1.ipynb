{
  "nbformat": 4,
  "nbformat_minor": 0,
  "metadata": {
    "colab": {
      "provenance": [],
      "authorship_tag": "ABX9TyOmlbzaszXMoxDHEpQtPQVe",
      "include_colab_link": true
    },
    "kernelspec": {
      "name": "python3",
      "display_name": "Python 3"
    },
    "language_info": {
      "name": "python"
    }
  },
  "cells": [
    {
      "cell_type": "markdown",
      "metadata": {
        "id": "view-in-github",
        "colab_type": "text"
      },
      "source": [
        "<a href=\"https://colab.research.google.com/github/kritikagupta22/unit1.ipynb/blob/main/Untitled30.ipynb\" target=\"_parent\"><img src=\"https://colab.research.google.com/assets/colab-badge.svg\" alt=\"Open In Colab\"/></a>"
      ]
    },
    {
      "cell_type": "code",
      "source": [
        "class A:\n",
        "  def __init__(self,x,y):\n",
        "    self.name=x\n",
        "    self.sapid=y\n",
        "    self.emp=self.B()\n",
        "\n",
        "    print(\" I am inside the init of class A \")\n",
        "\n",
        "  def showA(self):\n",
        "    print(\"inside show of A\")\n",
        "  def attrib(self):\n",
        "    print(self.name, self.sapid)\n",
        "\n",
        "  class B:\n",
        "    def __init__(self):\n",
        "      print(\"I am inside an inner class\")\n",
        "    def showB(self):\n",
        "      print(\"I am inside the show of B\")\n",
        "\n",
        "a1=A(\"khushi\",500125829)\n",
        "a1.name\n",
        "a1.showA()\n",
        "a1.attrib()\n",
        "a1.B()\n",
        "a1.emp.showB()"
      ],
      "metadata": {
        "colab": {
          "base_uri": "https://localhost:8080/"
        },
        "id": "lJ8YLXMa9iwD",
        "outputId": "d02c7d56-5ddc-4a7b-e5f2-6cd0523d9424"
      },
      "execution_count": 18,
      "outputs": [
        {
          "output_type": "stream",
          "name": "stdout",
          "text": [
            "I am inside an inner class\n",
            " I am inside the init of class A \n",
            "inside show of A\n",
            "khushi 500125829\n",
            "I am inside an inner class\n",
            "I am inside the show of B\n"
          ]
        }
      ]
    },
    {
      "cell_type": "code",
      "source": [
        "class A:\n",
        "  name=\"kritika\"\n",
        "  sapid= 488028432\n",
        "  def __init__(self,x,y):\n",
        "    #self.name=x\n",
        "    #self.sapid=y\n",
        "\n",
        "    print(\" I am inside the init of class A \")\n",
        "  def show(self):\n",
        "    print(\"inside show of A\")\n",
        "  def attrib(self):\n",
        "    print(self.name, self.sapid)\n",
        "\n",
        "class B(A):\n",
        "  def __init__(self):\n",
        "    print(\"I am inside an inner class\")\n",
        "  def show(self):\n",
        "     print(\"I am inside the show of B\")\n",
        "\n",
        "class C(B):\n",
        "  pass\n",
        "\n",
        "#a1=A(\"khushi\",500125829)\n",
        "#b1=B()\n",
        "\n",
        "class C(A,B):\n",
        "  pass\n",
        "\n",
        "#b1.showB()\n",
        "#b1.showA()\n",
        "#b1.attrib()\n",
        "#b1.name\n",
        "\n"
      ],
      "metadata": {
        "colab": {
          "base_uri": "https://localhost:8080/"
        },
        "id": "J4n7i1P9FJPq",
        "outputId": "892f2d8f-cb41-4d5e-c45a-1f3dc8930917"
      },
      "execution_count": 36,
      "outputs": [
        {
          "output_type": "stream",
          "name": "stdout",
          "text": [
            "I am inside an inner class\n"
          ]
        },
        {
          "output_type": "execute_result",
          "data": {
            "text/plain": [
              "<__main__.C at 0x7b33060d2b30>"
            ]
          },
          "metadata": {},
          "execution_count": 36
        }
      ]
    }
  ]
}