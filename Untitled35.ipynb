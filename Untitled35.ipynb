{
  "nbformat": 4,
  "nbformat_minor": 0,
  "metadata": {
    "colab": {
      "provenance": [],
      "authorship_tag": "ABX9TyOlGC8e4HY096sw+NkVgP1h",
      "include_colab_link": true
    },
    "kernelspec": {
      "name": "python3",
      "display_name": "Python 3"
    },
    "language_info": {
      "name": "python"
    }
  },
  "cells": [
    {
      "cell_type": "markdown",
      "metadata": {
        "id": "view-in-github",
        "colab_type": "text"
      },
      "source": [
        "<a href=\"https://colab.research.google.com/github/kritikagupta22/unit1.ipynb/blob/main/Untitled35.ipynb\" target=\"_parent\"><img src=\"https://colab.research.google.com/assets/colab-badge.svg\" alt=\"Open In Colab\"/></a>"
      ]
    },
    {
      "cell_type": "code",
      "execution_count": 7,
      "metadata": {
        "colab": {
          "base_uri": "https://localhost:8080/"
        },
        "id": "sZK_SfVcYvoq",
        "outputId": "39c39f78-b26a-4ca7-bd96-ed855ce12d87"
      },
      "outputs": [
        {
          "output_type": "stream",
          "name": "stdout",
          "text": [
            "36\n"
          ]
        }
      ],
      "source": [
        "class Shape:\n",
        "  def area(self):\n",
        "    print(\"I am in shape class\")\n",
        "  def area(self):\n",
        "    return 0\n",
        "\n",
        "class Square(Shape):\n",
        "  def __init__(self,length):\n",
        "    self.le = length\n",
        "\n",
        "  def area(self):\n",
        "    print(self.le *self.le)\n",
        "\n",
        "s1=Shape()\n",
        "s2=Square(6)\n",
        "#s1.area()\n",
        "s2.area()\n"
      ]
    }
  ]
}