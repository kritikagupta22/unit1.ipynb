{
  "nbformat": 4,
  "nbformat_minor": 0,
  "metadata": {
    "colab": {
      "provenance": [],
      "authorship_tag": "ABX9TyPI3Bt4d0ievToTrk9lJ1Yh",
      "include_colab_link": true
    },
    "kernelspec": {
      "name": "python3",
      "display_name": "Python 3"
    },
    "language_info": {
      "name": "python"
    }
  },
  "cells": [
    {
      "cell_type": "markdown",
      "metadata": {
        "id": "view-in-github",
        "colab_type": "text"
      },
      "source": [
        "<a href=\"https://colab.research.google.com/github/kritikagupta22/unit1.ipynb/blob/main/Untitled38.ipynb\" target=\"_parent\"><img src=\"https://colab.research.google.com/assets/colab-badge.svg\" alt=\"Open In Colab\"/></a>"
      ]
    },
    {
      "cell_type": "code",
      "execution_count": 5,
      "metadata": {
        "colab": {
          "base_uri": "https://localhost:8080/"
        },
        "id": "eY3zh667-3Dc",
        "outputId": "751498e9-6d6e-4968-a2bf-8138758bba84"
      },
      "outputs": [
        {
          "output_type": "stream",
          "name": "stdout",
          "text": [
            "Enter the area of circle16\n",
            "Area of circle is:  803.84\n",
            "perimeter of circle is:  100.48\n"
          ]
        }
      ],
      "source": [
        "#Your task is to create a circle constructor that creates a circle with a radius provided by an argument. The circles constructed must have two methods getArea() (PIr^2) which give both respective areas and perimeter() (2PI*r) which give both respective areas and perimeter(circumference).\n",
        "\n",
        "class circle:\n",
        "  def __init__(self):\n",
        "    self.r = int(input(\"Enter the area of circle\"))\n",
        "  def getArea(self):\n",
        "    area=3.14*(self.r)*(self.r)\n",
        "    return area\n",
        "  def getPerimeter(self):\n",
        "    perimeter=2*3.14*(self.r)\n",
        "    return perimeter\n",
        "\n",
        "a=circle()\n",
        "print(\"Area of circle is: \",a.getArea())\n",
        "print(\"perimeter of circle is: \",a.getPerimeter())\n"
      ]
    }
  ]
}