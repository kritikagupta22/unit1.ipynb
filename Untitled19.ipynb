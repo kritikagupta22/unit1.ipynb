{
  "nbformat": 4,
  "nbformat_minor": 0,
  "metadata": {
    "colab": {
      "provenance": [],
      "authorship_tag": "ABX9TyPTzSRDu0LYy3GPzx9gMq3z",
      "include_colab_link": true
    },
    "kernelspec": {
      "name": "python3",
      "display_name": "Python 3"
    },
    "language_info": {
      "name": "python"
    }
  },
  "cells": [
    {
      "cell_type": "markdown",
      "metadata": {
        "id": "view-in-github",
        "colab_type": "text"
      },
      "source": [
        "<a href=\"https://colab.research.google.com/github/kritikagupta22/unit1.ipynb/blob/main/Untitled19.ipynb\" target=\"_parent\"><img src=\"https://colab.research.google.com/assets/colab-badge.svg\" alt=\"Open In Colab\"/></a>"
      ]
    },
    {
      "cell_type": "code",
      "execution_count": 7,
      "metadata": {
        "colab": {
          "base_uri": "https://localhost:8080/"
        },
        "id": "HXgxo-Bs6ILk",
        "outputId": "285e7a97-5d8a-4518-cc51-656c63e57ced"
      },
      "outputs": [
        {
          "output_type": "stream",
          "name": "stdout",
          "text": [
            "HII GUYYYYS\n",
            "HII GUYYYYS\n",
            "Hello, Abc!\n",
            "Hello, def!\n"
          ]
        }
      ],
      "source": [
        "def Abc(text):\n",
        "  return text.upper()\n",
        "def dff(text):\n",
        "  return text.lower()\n",
        "print(Abc(\"hii guyyyys\"))\n",
        "name=Abc\n",
        "print(name(\"hii guyyyys\"))\n",
        "def grret(func):\n",
        "  grreting=func(\"welcome to the class\")\n",
        "def greet(name):\n",
        "  print(f\"Hello, {name}!\")\n",
        "\n",
        "greet(\"Abc\")\n",
        "greet(\"def\")"
      ]
    },
    {
      "cell_type": "code",
      "source": [
        "def Abc(text):\n",
        "  return text.upper()\n",
        "def dff(text):\n",
        "  return text.lower()\n",
        "print(Abc(\"hii guyyyys\"))\n",
        "name=Abc\n",
        "print(name(\"hii guyyyys\"))\n",
        "def grret(func):\n",
        "  greeting=func(\"welcome to the class\")\n",
        "  print(greeting)\n",
        "\n",
        "grret(Abc)\n",
        "grret(dff)"
      ],
      "metadata": {
        "colab": {
          "base_uri": "https://localhost:8080/"
        },
        "id": "XoXZRPPh8tdd",
        "outputId": "54d5ec9a-a306-4e16-c1c9-984a8bee9d66"
      },
      "execution_count": 10,
      "outputs": [
        {
          "output_type": "stream",
          "name": "stdout",
          "text": [
            "HII GUYYYYS\n",
            "HII GUYYYYS\n",
            "WELCOME TO THE CLASS\n",
            "welcome to the class\n"
          ]
        }
      ]
    },
    {
      "cell_type": "code",
      "source": [
        "class Employee:\n",
        "  Name=\"Jai Shree Shyam\"\n",
        "  Dept=\"Reengus\"\n",
        "  def info(self):\n",
        "    print(Self.Name,Self.Dept,City)\n",
        "    E1=Employee:\n",
        "    E2=Employee:\n",
        "    city=\"Jaipur\"\n",
        "    E1.info(city)\n",
        "    E2.info()"
      ],
      "metadata": {
        "id": "lilWKWa-9cD-"
      },
      "execution_count": null,
      "outputs": []
    },
    {
      "cell_type": "code",
      "source": [
        "class Employee:\n",
        "  def___int__(self,Name,D)\n",
        "  self.Name=Name\n",
        "  self.D=D\n",
        "  print(selfName,selfD)\n",
        "  E1=Employee(\"Ram\")\n",
        "  E2=Emplopyee(66)\n",
        "  print(e1.name)\n",
        "  print(e2)\n",
        "\n",
        "\n",
        "  print(self.Name,self.Dept)\n",
        "  def address(self,D):\n",
        "    print(self.city)\n"
      ],
      "metadata": {
        "colab": {
          "base_uri": "https://localhost:8080/",
          "height": 332
        },
        "id": "BVuXsrv5_zx6",
        "outputId": "bb6bcabc-2da1-4eaf-c12e-847cbce796da"
      },
      "execution_count": 25,
      "outputs": [
        {
          "output_type": "error",
          "ename": "NameError",
          "evalue": "name 'def___int__' is not defined",
          "traceback": [
            "\u001b[0;31m---------------------------------------------------------------------------\u001b[0m",
            "\u001b[0;31mNameError\u001b[0m                                 Traceback (most recent call last)",
            "\u001b[0;32m<ipython-input-25-8ad401ac2c17>\u001b[0m in \u001b[0;36m<cell line: 1>\u001b[0;34m()\u001b[0m\n\u001b[0;32m----> 1\u001b[0;31m \u001b[0;32mclass\u001b[0m \u001b[0mEmployee\u001b[0m\u001b[0;34m:\u001b[0m\u001b[0;34m\u001b[0m\u001b[0;34m\u001b[0m\u001b[0m\n\u001b[0m\u001b[1;32m      2\u001b[0m   \u001b[0mdef___int__\u001b[0m\u001b[0;34m(\u001b[0m\u001b[0mself\u001b[0m\u001b[0;34m,\u001b[0m\u001b[0mName\u001b[0m\u001b[0;34m,\u001b[0m\u001b[0mD\u001b[0m\u001b[0;34m)\u001b[0m\u001b[0;34m\u001b[0m\u001b[0;34m\u001b[0m\u001b[0m\n\u001b[1;32m      3\u001b[0m   \u001b[0mself\u001b[0m\u001b[0;34m.\u001b[0m\u001b[0mName\u001b[0m\u001b[0;34m=\u001b[0m\u001b[0mName\u001b[0m\u001b[0;34m\u001b[0m\u001b[0;34m\u001b[0m\u001b[0m\n\u001b[1;32m      4\u001b[0m   \u001b[0mself\u001b[0m\u001b[0;34m.\u001b[0m\u001b[0mD\u001b[0m\u001b[0;34m=\u001b[0m\u001b[0mD\u001b[0m\u001b[0;34m\u001b[0m\u001b[0;34m\u001b[0m\u001b[0m\n\u001b[1;32m      5\u001b[0m   \u001b[0mprint\u001b[0m\u001b[0;34m(\u001b[0m\u001b[0mselfName\u001b[0m\u001b[0;34m,\u001b[0m\u001b[0mselfD\u001b[0m\u001b[0;34m)\u001b[0m\u001b[0;34m\u001b[0m\u001b[0;34m\u001b[0m\u001b[0m\n",
            "\u001b[0;32m<ipython-input-25-8ad401ac2c17>\u001b[0m in \u001b[0;36mEmployee\u001b[0;34m()\u001b[0m\n\u001b[1;32m      1\u001b[0m \u001b[0;32mclass\u001b[0m \u001b[0mEmployee\u001b[0m\u001b[0;34m:\u001b[0m\u001b[0;34m\u001b[0m\u001b[0;34m\u001b[0m\u001b[0m\n\u001b[0;32m----> 2\u001b[0;31m   \u001b[0mdef___int__\u001b[0m\u001b[0;34m(\u001b[0m\u001b[0mself\u001b[0m\u001b[0;34m,\u001b[0m\u001b[0mName\u001b[0m\u001b[0;34m,\u001b[0m\u001b[0mD\u001b[0m\u001b[0;34m)\u001b[0m\u001b[0;34m\u001b[0m\u001b[0;34m\u001b[0m\u001b[0m\n\u001b[0m\u001b[1;32m      3\u001b[0m   \u001b[0mself\u001b[0m\u001b[0;34m.\u001b[0m\u001b[0mName\u001b[0m\u001b[0;34m=\u001b[0m\u001b[0mName\u001b[0m\u001b[0;34m\u001b[0m\u001b[0;34m\u001b[0m\u001b[0m\n\u001b[1;32m      4\u001b[0m   \u001b[0mself\u001b[0m\u001b[0;34m.\u001b[0m\u001b[0mD\u001b[0m\u001b[0;34m=\u001b[0m\u001b[0mD\u001b[0m\u001b[0;34m\u001b[0m\u001b[0;34m\u001b[0m\u001b[0m\n\u001b[1;32m      5\u001b[0m   \u001b[0mprint\u001b[0m\u001b[0;34m(\u001b[0m\u001b[0mselfName\u001b[0m\u001b[0;34m,\u001b[0m\u001b[0mselfD\u001b[0m\u001b[0;34m)\u001b[0m\u001b[0;34m\u001b[0m\u001b[0;34m\u001b[0m\u001b[0m\n",
            "\u001b[0;31mNameError\u001b[0m: name 'def___int__' is not defined"
          ]
        }
      ]
    },
    {
      "cell_type": "code",
      "source": [
        "a=[]\n",
        "a=\"gh\"\n",
        "print(a)"
      ],
      "metadata": {
        "colab": {
          "base_uri": "https://localhost:8080/"
        },
        "id": "JtXO8z8EBqol",
        "outputId": "1a56af7e-8e1f-4e00-f362-f41072f0eeac"
      },
      "execution_count": 11,
      "outputs": [
        {
          "output_type": "stream",
          "name": "stdout",
          "text": [
            "gh\n"
          ]
        }
      ]
    },
    {
      "cell_type": "code",
      "source": [
        "class Cube:\n",
        "  def__init__(self,side):\n",
        "    self.side =side\n",
        "\n",
        "  def area(self):\n",
        "    return self.side **2\n",
        "\n",
        "  def volume(self):\n",
        "    return self.side **3\n",
        "  def surface_area(self):\n",
        "    return 6 * (self.side **2)"
      ],
      "metadata": {
        "colab": {
          "base_uri": "https://localhost:8080/",
          "height": 106
        },
        "id": "TlCkfDlOE5xm",
        "outputId": "7a742e26-6f1f-4365-80f8-33303468290b"
      },
      "execution_count": 31,
      "outputs": [
        {
          "output_type": "error",
          "ename": "SyntaxError",
          "evalue": "invalid syntax (<ipython-input-31-f78b2bf8e6d6>, line 2)",
          "traceback": [
            "\u001b[0;36m  File \u001b[0;32m\"<ipython-input-31-f78b2bf8e6d6>\"\u001b[0;36m, line \u001b[0;32m2\u001b[0m\n\u001b[0;31m    def__init__(self,side):\u001b[0m\n\u001b[0m                          ^\u001b[0m\n\u001b[0;31mSyntaxError\u001b[0m\u001b[0;31m:\u001b[0m invalid syntax\n"
          ]
        }
      ]
    },
    {
      "cell_type": "code",
      "source": [
        "# Write a class to generate a table of n any number and calculate its factorial function, square function, cube function and table should print the Sap id :"
      ],
      "metadata": {
        "id": "Z5YOSRnAKCBY"
      },
      "execution_count": null,
      "outputs": []
    }
  ]
}